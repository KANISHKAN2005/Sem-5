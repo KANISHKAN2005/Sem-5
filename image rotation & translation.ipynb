{
 "cells": [
  {
   "cell_type": "code",
   "execution_count": 4,
   "id": "ce948924-f73c-460e-b2e0-a3348fca193b",
   "metadata": {},
   "outputs": [],
   "source": [
    "import cv2\n",
    "import numpy as np"
   ]
  },
  {
   "cell_type": "code",
   "execution_count": 5,
   "id": "1af85093-0c08-4831-9dd3-2e3f49050ae3",
   "metadata": {},
   "outputs": [
    {
     "name": "stdout",
     "output_type": "stream",
     "text": [
      "(2400, 2400, 3)\n",
      "2400\n",
      "2400\n"
     ]
    }
   ],
   "source": [
    "image = cv2.imread(\"moon.jpg\")\n",
    "shp=image.shape\n",
    "print(shp)\n",
    "height,width=image.shape[:2]\n",
    "print(height)\n",
    "print(width)"
   ]
  },
  {
   "cell_type": "code",
   "execution_count": 6,
   "id": "2960ceee-ea68-4013-b8fa-82c58d422227",
   "metadata": {},
   "outputs": [],
   "source": [
    "cv2.imshow(\"original_image\",image)\n",
    "cv2.waitKey(0)\n",
    "cv2.destroyAllWindows()"
   ]
  },
  {
   "cell_type": "code",
   "execution_count": 2,
   "id": "85e1e39a-0835-4509-a174-27b5caced1a6",
   "metadata": {},
   "outputs": [
    {
     "ename": "NameError",
     "evalue": "name 'cv2' is not defined",
     "output_type": "error",
     "traceback": [
      "\u001b[1;31m---------------------------------------------------------------------------\u001b[0m",
      "\u001b[1;31mNameError\u001b[0m                                 Traceback (most recent call last)",
      "Cell \u001b[1;32mIn[2], line 1\u001b[0m\n\u001b[1;32m----> 1\u001b[0m image1 \u001b[38;5;241m=\u001b[39m cv2\u001b[38;5;241m.\u001b[39mresize(image,(\u001b[38;5;241m800\u001b[39m,\u001b[38;5;241m800\u001b[39m))\n",
      "\u001b[1;31mNameError\u001b[0m: name 'cv2' is not defined"
     ]
    }
   ],
   "source": [
    "image1 = cv2.resize(image,(800,800))"
   ]
  },
  {
   "cell_type": "code",
   "execution_count": 3,
   "id": "9ba05939-490d-4c12-90ca-7983462d20d6",
   "metadata": {},
   "outputs": [
    {
     "ename": "NameError",
     "evalue": "name 'height' is not defined",
     "output_type": "error",
     "traceback": [
      "\u001b[1;31m---------------------------------------------------------------------------\u001b[0m",
      "\u001b[1;31mNameError\u001b[0m                                 Traceback (most recent call last)",
      "Cell \u001b[1;32mIn[3], line 1\u001b[0m\n\u001b[1;32m----> 1\u001b[0m center \u001b[38;5;241m=\u001b[39m (height\u001b[38;5;241m/\u001b[39m\u001b[38;5;241m4\u001b[39m,width\u001b[38;5;241m/\u001b[39m\u001b[38;5;241m4\u001b[39m)\n\u001b[0;32m      2\u001b[0m \u001b[38;5;28mprint\u001b[39m(center)\n",
      "\u001b[1;31mNameError\u001b[0m: name 'height' is not defined"
     ]
    }
   ],
   "source": [
    "center = (height/4,width/4)\n",
    "print(center)"
   ]
  },
  {
   "cell_type": "code",
   "execution_count": 31,
   "id": "8beeaf48-be46-4398-a010-3d7c7d0e3b3a",
   "metadata": {},
   "outputs": [
    {
     "name": "stdout",
     "output_type": "stream",
     "text": [
      "[[ 9.99847695e-01  1.74524064e-02 -2.07601219e+01]\n",
      " [-1.74524064e-02  9.99847695e-01  2.11256535e+01]]\n"
     ]
    }
   ],
   "source": [
    "#using cv2.getrotationMatrix2D to get the rotation matrix\n",
    "rotate_matrix = cv2.getRotationMatrix2D(center=center, angle=1, scale=1.0)\n",
    "print(rotate_matrix)"
   ]
  },
  {
   "cell_type": "code",
   "execution_count": 32,
   "id": "4e706722-1c04-46d7-a3dd-44b760f5d245",
   "metadata": {},
   "outputs": [],
   "source": [
    "#rotate the image using cv.2warpaffine\n",
    "rotated_image = cv2.warpAffine(src=image1, M=rotate_matrix, dsize=(width,height))\n",
    "\n",
    "cv2.imshow('Original_image',image1)\n",
    "cv2.waitKey(0)\n",
    "cv2.imshow('Rotate_image',rotated_image)\n",
    "cv2.waitKey(0)\n",
    "cv2.destroyAllWindows()"
   ]
  },
  {
   "cell_type": "code",
   "execution_count": 33,
   "id": "604c66ba-5e2b-4d16-b2ed-22fa60fa7451",
   "metadata": {},
   "outputs": [],
   "source": [
    "#translation"
   ]
  },
  {
   "cell_type": "code",
   "execution_count": 34,
   "id": "2a737fc4-90f1-4930-85dd-3fedcaeec45f",
   "metadata": {},
   "outputs": [
    {
     "name": "stdout",
     "output_type": "stream",
     "text": [
      "100.0\n",
      "50.0\n"
     ]
    }
   ],
   "source": [
    "tx,ty = 100.0,50.0\n",
    "print(tx)\n",
    "print(ty)"
   ]
  },
  {
   "cell_type": "code",
   "execution_count": 45,
   "id": "056a3600-0465-4c2d-8e6b-52d59a147a15",
   "metadata": {},
   "outputs": [],
   "source": [
    "# create the translation matrix using tx and ty, it is a numpy array\n",
    "translation_matrix = np.array([[1,0,tx],[0,1,ty]])"
   ]
  },
  {
   "cell_type": "code",
   "execution_count": 51,
   "id": "493142ac-2ce0-436e-a6a0-02da795595e0",
   "metadata": {},
   "outputs": [],
   "source": [
    "# apply the translation to the image\n",
    "translated_image = cv2.warpAffine(src=horse1, M= translation_matrix, dsize=(width,height))"
   ]
  },
  {
   "cell_type": "code",
   "execution_count": 53,
   "id": "c8e6850e-66d3-475f-8fe8-eb9678701a35",
   "metadata": {},
   "outputs": [],
   "source": [
    "cv2.imshow('translation_image',translated_image)\n",
    "cv2.waitKey(0)\n",
    "cv2.destroyAllWindows()"
   ]
  },
  {
   "cell_type": "code",
   "execution_count": 2,
   "id": "0d74c1fc-2614-4688-9b4e-7c9b878ee4db",
   "metadata": {},
   "outputs": [],
   "source": [
    "horse = cv2.imread('horse.png')"
   ]
  },
  {
   "cell_type": "code",
   "execution_count": 10,
   "id": "2d4dc3ac-53fc-4d99-aec7-2f102a8cbd6b",
   "metadata": {},
   "outputs": [],
   "source": [
    "horse1= cv2.resize(horse,(800,800))"
   ]
  },
  {
   "cell_type": "code",
   "execution_count": 66,
   "id": "2dad5453-fc8e-483d-8781-ac968d10d624",
   "metadata": {},
   "outputs": [],
   "source": [
    "bitwise_or = cv2.bitwise_or(horse1,image1,mask = None)"
   ]
  },
  {
   "cell_type": "code",
   "execution_count": 67,
   "id": "cb2f1bb9-c39a-43ad-89fd-484495868916",
   "metadata": {},
   "outputs": [],
   "source": [
    "bitwise_and = cv2.bitwise_and(image1,horse1,mask = None)"
   ]
  },
  {
   "cell_type": "code",
   "execution_count": 68,
   "id": "2255b02f-aa57-4631-a767-976fefb1726f",
   "metadata": {},
   "outputs": [],
   "source": [
    "bitwise_xor = cv2.bitwise_xor(image1,horse1,mask = None)"
   ]
  },
  {
   "cell_type": "code",
   "execution_count": 69,
   "id": "f3915fb9-fefe-492b-9c2d-1912e0d3e3c2",
   "metadata": {},
   "outputs": [],
   "source": [
    "cv2.imshow(\"image1\",horse1)\n",
    "cv2.imshow(\"image2\",horse1)\n",
    "cv2.imshow(\"bitwise and\" ,bitwise_and)\n",
    "cv2.imshow(\"bitwise or\" ,bitwise_or)\n",
    "cv2.imshow(\"bitwise xor\", bitwise_xor)\n",
    "\n",
    "cv2.waitKey(0)\n",
    "cv2.destroyAllWindows()"
   ]
  },
  {
   "cell_type": "code",
   "execution_count": 19,
   "id": "cfe35d42-c435-47f5-a12a-5e1f4991e553",
   "metadata": {},
   "outputs": [],
   "source": [
    "horse1 = cv2.imread(\"horse.png\")\n",
    "horse1 = cv2.resize(horse,(400,400))\n",
    "cv2.imshow('resize',horse1)\n",
    "cv2.waitKey(0)\n",
    "cv2.destroyAllWindows()"
   ]
  },
  {
   "cell_type": "code",
   "execution_count": 12,
   "id": "6b4ad76e-a511-43fd-84f8-619b8eefb0be",
   "metadata": {},
   "outputs": [
    {
     "ename": "NameError",
     "evalue": "name 'image1' is not defined",
     "output_type": "error",
     "traceback": [
      "\u001b[1;31m---------------------------------------------------------------------------\u001b[0m",
      "\u001b[1;31mNameError\u001b[0m                                 Traceback (most recent call last)",
      "Cell \u001b[1;32mIn[12], line 1\u001b[0m\n\u001b[1;32m----> 1\u001b[0m imAdd\u001b[38;5;241m=\u001b[39m cv2\u001b[38;5;241m.\u001b[39maddWeighted(image1,\u001b[38;5;241m0.8\u001b[39m,horse1,\u001b[38;5;241m0.3\u001b[39m,\u001b[38;5;241m30\u001b[39m)\n\u001b[0;32m      2\u001b[0m cv2\u001b[38;5;241m.\u001b[39mimshow(\u001b[38;5;124m'\u001b[39m\u001b[38;5;124mimAdd\u001b[39m\u001b[38;5;124m'\u001b[39m,imAdd)\n\u001b[0;32m      3\u001b[0m cv2\u001b[38;5;241m.\u001b[39mwaitKey(\u001b[38;5;241m0\u001b[39m)\n",
      "\u001b[1;31mNameError\u001b[0m: name 'image1' is not defined"
     ]
    }
   ],
   "source": [
    "imAdd= cv2.addWeighted(image1,0.8,horse1,0.3,30)\n",
    "cv2.imshow('imAdd',imAdd)\n",
    "cv2.waitKey(0)\n",
    "cv2.destroyAllWindows()"
   ]
  },
  {
   "cell_type": "code",
   "execution_count": 21,
   "id": "9d587ff3-92b8-4dd4-b9ca-a2717a8e0e17",
   "metadata": {},
   "outputs": [
    {
     "name": "stdout",
     "output_type": "stream",
     "text": [
      "[[-1.0000000e+00  1.2246468e-16  1.2000000e+03]\n",
      " [-1.2246468e-16 -1.0000000e+00  1.2000000e+03]]\n"
     ]
    }
   ],
   "source": [
    "rotate_matrix = cv2.getRotationMatrix2D(center=center, angle=180, scale=1.0)\n",
    "print(rotate_matrix)"
   ]
  },
  {
   "cell_type": "code",
   "execution_count": 24,
   "id": "72f5eb8c-607b-4581-9a75-562f4f9ff2f4",
   "metadata": {},
   "outputs": [
    {
     "data": {
      "text/plain": [
       "(600.0, 600.0)"
      ]
     },
     "execution_count": 24,
     "metadata": {},
     "output_type": "execute_result"
    }
   ],
   "source": [
    "center"
   ]
  },
  {
   "cell_type": "code",
   "execution_count": 23,
   "id": "14309130-203f-4a18-b83d-310b7b7bbf2a",
   "metadata": {},
   "outputs": [],
   "source": [
    "rotated_image = cv2.warpAffine(src=horse1, M=rotate_matrix, dsize=(500,500))\n",
    "cv2.imshow('Original_image',horse1)\n",
    "cv2.waitKey(0)\n",
    "cv2.imshow('Rotate_image',rotated_image)\n",
    "cv2.waitKey(0)\n",
    "cv2.destroyAllWindows()"
   ]
  },
  {
   "cell_type": "code",
   "execution_count": null,
   "id": "d4ff5c4b-1467-443d-ad3a-26fc75113329",
   "metadata": {},
   "outputs": [],
   "source": []
  }
 ],
 "metadata": {
  "kernelspec": {
   "display_name": "Python 3 (ipykernel)",
   "language": "python",
   "name": "python3"
  },
  "language_info": {
   "codemirror_mode": {
    "name": "ipython",
    "version": 3
   },
   "file_extension": ".py",
   "mimetype": "text/x-python",
   "name": "python",
   "nbconvert_exporter": "python",
   "pygments_lexer": "ipython3",
   "version": "3.11.7"
  }
 },
 "nbformat": 4,
 "nbformat_minor": 5
}

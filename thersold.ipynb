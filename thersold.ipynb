{
 "cells": [
  {
   "cell_type": "code",
   "execution_count": 1,
   "id": "b59ebdbb-2665-42f8-9259-584f5f531b79",
   "metadata": {},
   "outputs": [],
   "source": [
    "import cv2 \n",
    "import numpy as np"
   ]
  },
  {
   "cell_type": "code",
   "execution_count": 5,
   "id": "ec819832-49fa-4deb-bf56-f8ff10aa942f",
   "metadata": {},
   "outputs": [],
   "source": [
    "img = cv2.imread('india.jpg')"
   ]
  },
  {
   "cell_type": "code",
   "execution_count": 3,
   "id": "f2242ea4-ebf5-43d9-b0f8-e623b0d4d8ea",
   "metadata": {},
   "outputs": [
    {
     "data": {
      "text/plain": [
       "(720, 1280, 3)"
      ]
     },
     "execution_count": 3,
     "metadata": {},
     "output_type": "execute_result"
    }
   ],
   "source": [
    "sp = img.shape\n",
    "sp"
   ]
  },
  {
   "cell_type": "code",
   "execution_count": 4,
   "id": "44e311b5-483e-47a8-bb58-71f943b714d9",
   "metadata": {},
   "outputs": [],
   "source": [
    "# load the image in gray scale"
   ]
  },
  {
   "cell_type": "code",
   "execution_count": 6,
   "id": "4ea94c10-64a8-4d87-8c35-27ec7a9b969e",
   "metadata": {},
   "outputs": [],
   "source": [
    "GREY = cv2.cvtColor(img,cv2.COLOR_BGR2GRAY)"
   ]
  },
  {
   "cell_type": "code",
   "execution_count": 6,
   "id": "c897c3a3-c502-4090-8e62-15d8e4cf7611",
   "metadata": {},
   "outputs": [],
   "source": [
    "# DISPLAY"
   ]
  },
  {
   "cell_type": "code",
   "execution_count": 7,
   "id": "c5707448-8023-4567-9f1a-3d9d7247acad",
   "metadata": {},
   "outputs": [],
   "source": [
    "cv2.imshow('Original_image',img)\n",
    "cv2.imshow('gray',GREY)\n",
    "cv2.waitKey(0)\n",
    "cv2.destroyAllWindows()"
   ]
  },
  {
   "cell_type": "markdown",
   "id": "89894fbd-b9ed-480a-9a5b-f7ea8b0e0b18",
   "metadata": {},
   "source": [
    "# binary threshold"
   ]
  },
  {
   "cell_type": "raw",
   "id": "e7d67452-966f-4361-990b-e774a6083b0d",
   "metadata": {},
   "source": [
    "if the pixel value is greater than the thershold, it is set to max_value.otherwise is set  to 0"
   ]
  },
  {
   "cell_type": "code",
   "execution_count": 8,
   "id": "306921c6-9d6c-4e90-bbce-f7e74825295c",
   "metadata": {},
   "outputs": [],
   "source": [
    "ret,thresh1 = cv2.threshold(GREY,200,255,cv2.THRESH_BINARY)"
   ]
  },
  {
   "cell_type": "markdown",
   "id": "3a072beb-7590-4d03-be7b-50590234f7e7",
   "metadata": {},
   "source": [
    "# BINARY INVERSE THRESHOLDINGS"
   ]
  },
  {
   "cell_type": "raw",
   "id": "c9daacf5-3a35-48bc-abf5-d2fd1e2d499c",
   "metadata": {},
   "source": [
    " OPPOSITE OF BINARY THRESHOLDING IF THE PIXEL VALUE IS GREATER THEN THERSHOLD, IT IS SET TO0. OTHERWISE, IT  IS SET TO MAX_VALUE"
   ]
  },
  {
   "cell_type": "code",
   "execution_count": 9,
   "id": "71791133-da4f-426b-b928-a91b2c0e9430",
   "metadata": {},
   "outputs": [],
   "source": [
    "ret,thresh2 = cv2.threshold(GREY,127,255,cv2.THRESH_BINARY_INV)"
   ]
  },
  {
   "cell_type": "markdown",
   "id": "f0fcfbf2-3be8-4502-88e4-e269bd327048",
   "metadata": {},
   "source": [
    "# TRUNCATION THRESHOLDINGS"
   ]
  },
  {
   "cell_type": "raw",
   "id": "b735b01c-2993-45e3-83c0-1f8168afcb76",
   "metadata": {},
   "source": [
    " IF THE PIXVWL IS GREATER THEN THE THRESHOLD, IT IS SET THE THRESHOLD VALUE. OTHERWISE IT REMAINS UNCHANGED"
   ]
  },
  {
   "cell_type": "code",
   "execution_count": 10,
   "id": "7e3e6f57-8c90-493f-90a7-bec03e0b956a",
   "metadata": {},
   "outputs": [],
   "source": [
    "ret,thresh3 = cv2.threshold(GREY,127,255,cv2.THRESH_TRUNC)"
   ]
  },
  {
   "cell_type": "markdown",
   "id": "7381e4fd-dc58-47ae-947b-57619ee97324",
   "metadata": {},
   "source": [
    "# TO ZERO THRESHOLDING"
   ]
  },
  {
   "cell_type": "raw",
   "id": "f0bfffde-c3db-423f-8679-9d67585ea585",
   "metadata": {},
   "source": [
    "OPPOSITE OF TO ZERO THRESHOLDING IF THE PIXEL VALUE IS GREATER THAN THE THRESHOLD, IT IS SET 0 OTHERWISE , IT REMAINS UNCHANGED"
   ]
  },
  {
   "cell_type": "code",
   "execution_count": 11,
   "id": "16ce36ee-fd0a-4786-8d32-634226957d97",
   "metadata": {},
   "outputs": [],
   "source": [
    "ret,thresh4 = cv2.threshold(GREY,127,255,cv2.THRESH_TOZERO)"
   ]
  },
  {
   "cell_type": "markdown",
   "id": "509cf07e-c70d-4da0-a6e5-49160e6afbce",
   "metadata": {},
   "source": [
    "# TO ZERO INVERSE THRESHOLDS"
   ]
  },
  {
   "cell_type": "code",
   "execution_count": 12,
   "id": "02368383-17e1-46e7-b7aa-d95ec5a2457c",
   "metadata": {},
   "outputs": [],
   "source": [
    "ret,thresh5 = cv2.threshold(GREY,127,255,cv2.THRESH_TOZERO)"
   ]
  },
  {
   "cell_type": "markdown",
   "id": "8c600389-6795-4c75-b583-8895d33186b5",
   "metadata": {},
   "source": [
    "# DISPLAY RESULT"
   ]
  },
  {
   "cell_type": "code",
   "execution_count": 13,
   "id": "5923241a-41c9-43ed-820d-6d6defa088e3",
   "metadata": {},
   "outputs": [
    {
     "data": {
      "text/plain": [
       "<function destroyAllWindows>"
      ]
     },
     "execution_count": 13,
     "metadata": {},
     "output_type": "execute_result"
    }
   ],
   "source": [
    "cv2.imshow(\"grey\", GREY)\n",
    "cv2.imshow(\"Binary\", thresh1)\n",
    "cv2.imshow(\"Binary_INV\", thresh2)\n",
    "cv2.imshow(\"Trunc\", thresh3)\n",
    "cv2.imshow(\"To_Zero\", thresh4)\n",
    "cv2.imshow(\"To Zero_INV\", thresh5) \n",
    "cv2.waitKey(0)\n",
    "cv2.destroyAllWindows"
   ]
  },
  {
   "cell_type": "code",
   "execution_count": 14,
   "id": "8191ff34-9110-488d-90ae-aa800429cea5",
   "metadata": {},
   "outputs": [],
   "source": [
    "# thresholding adaptive"
   ]
  },
  {
   "cell_type": "code",
   "execution_count": 2,
   "id": "199e4075-3f21-440f-a9bb-97a1f95a5412",
   "metadata": {},
   "outputs": [
    {
     "ename": "NameError",
     "evalue": "name 'src' is not defined",
     "output_type": "error",
     "traceback": [
      "\u001b[1;31m---------------------------------------------------------------------------\u001b[0m",
      "\u001b[1;31mNameError\u001b[0m                                 Traceback (most recent call last)",
      "Cell \u001b[1;32mIn[2], line 1\u001b[0m\n\u001b[1;32m----> 1\u001b[0m cv2\u001b[38;5;241m.\u001b[39madaptiveThreshold(src,maxValue, adaptiveMethod, thresholdType, blockSize, C)\n",
      "\u001b[1;31mNameError\u001b[0m: name 'src' is not defined"
     ]
    }
   ],
   "source": [
    "cv2.adaptiveThreshold(src,maxValue, adaptiveMethod, thresholdType, blockSize, C)"
   ]
  },
  {
   "cell_type": "code",
   "execution_count": 16,
   "id": "f1892ca8-48dd-4d7d-a0f8-d8fa3df1c1af",
   "metadata": {},
   "outputs": [],
   "source": [
    "th = cv2.adaptiveThreshold(GREY,255,cv2.ADAPTIVE_THRESH_MEAN_C,cv2.THRESH_BINARY,3,4)"
   ]
  },
  {
   "cell_type": "code",
   "execution_count": 24,
   "id": "9079565c-2118-4662-b7f7-ada91d962e15",
   "metadata": {},
   "outputs": [],
   "source": [
    "cv2.imshow(\"Blur image\",GREY)\n",
    "cv2.imshow(\"MeanC\",th)\n",
    "cv2.imshow(\"gau\",the)\n",
    "cv2.waitKey(0)\n",
    "cv2.destroyAllWindows()"
   ]
  },
  {
   "cell_type": "code",
   "execution_count": 21,
   "id": "f9c8ac4c-32de-43ed-ac33-93aaecfd2a9e",
   "metadata": {},
   "outputs": [],
   "source": [
    "th = cv2.adaptiveThreshold(GREY,255,cv2.ADAPTIVE_THRESH_GAUSSIAN_C,cv2.THRESH_BINARY,3,4)"
   ]
  },
  {
   "cell_type": "code",
   "execution_count": 23,
   "id": "11a7a7b1-1dc4-4e9c-84a0-7ea23b2b2408",
   "metadata": {},
   "outputs": [],
   "source": [
    "the = cv2.adaptiveThreshold(GREY,255,cv2.ADAPTIVE_THRESH_MEAN_C,cv2.THRESH_BINARY,3,4)"
   ]
  },
  {
   "cell_type": "code",
   "execution_count": null,
   "id": "b5d08fbe-6f7d-4048-8d2d-e2bb89f553e2",
   "metadata": {},
   "outputs": [],
   "source": []
  },
  {
   "cell_type": "code",
   "execution_count": null,
   "id": "19fb64a6-23da-49e4-ac1f-75651b25a576",
   "metadata": {},
   "outputs": [],
   "source": []
  }
 ],
 "metadata": {
  "kernelspec": {
   "display_name": "Python 3 (ipykernel)",
   "language": "python",
   "name": "python3"
  },
  "language_info": {
   "codemirror_mode": {
    "name": "ipython",
    "version": 3
   },
   "file_extension": ".py",
   "mimetype": "text/x-python",
   "name": "python",
   "nbconvert_exporter": "python",
   "pygments_lexer": "ipython3",
   "version": "3.11.7"
  }
 },
 "nbformat": 4,
 "nbformat_minor": 5
}
